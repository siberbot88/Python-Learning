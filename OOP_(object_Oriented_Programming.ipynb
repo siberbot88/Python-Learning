{
  "nbformat": 4,
  "nbformat_minor": 0,
  "metadata": {
    "colab": {
      "provenance": [],
      "authorship_tag": "ABX9TyNYFCx7MUZ5lAs/2z4iY81Y",
      "include_colab_link": true
    },
    "kernelspec": {
      "name": "python3",
      "display_name": "Python 3"
    },
    "language_info": {
      "name": "python"
    }
  },
  "cells": [
    {
      "cell_type": "markdown",
      "metadata": {
        "id": "view-in-github",
        "colab_type": "text"
      },
      "source": [
        "<a href=\"https://colab.research.google.com/github/siberbot88/Python-Learning/blob/main/OOP_(object_Oriented_Programming.ipynb\" target=\"_parent\"><img src=\"https://colab.research.google.com/assets/colab-badge.svg\" alt=\"Open In Colab\"/></a>"
      ]
    },
    {
      "cell_type": "markdown",
      "source": [
        "##**OOP (Object Oriented Programming) for python**"
      ],
      "metadata": {
        "id": "zx8WwU91w2O1"
      }
    },
    {
      "cell_type": "code",
      "source": [
        "# 1. Membuat Object dan Class\n",
        " # mendefinisikan sebuah class dan membuat sebuah objek\n",
        "\n",
        "class mobil :\n",
        "  def __init__(self, warna, merek, model):\n",
        "      self.warna = warna\n",
        "      self.merek = merek\n",
        "      self.model = model\n",
        "\n",
        "  def tampilkan(self):\n",
        "    print(f'Mobil Saya Warna {self.warna}, bermerek {self.merek}, dan bermodel {self.model}')\n",
        "\n",
        "\n",
        "myCar = mobil('Merah', 'Toyota', 'Avanza')\n",
        "myCar.tampilkan()\n"
      ],
      "metadata": {
        "colab": {
          "base_uri": "https://localhost:8080/"
        },
        "id": "lRgBOtGsw7Nu",
        "outputId": "3b401de3-d3f1-441c-c3e0-02ea60f53ea2"
      },
      "execution_count": 4,
      "outputs": [
        {
          "output_type": "stream",
          "name": "stdout",
          "text": [
            "Mobil Saya Warna Merah, bermerek Toyota, dan bermodel Avanza\n"
          ]
        }
      ]
    },
    {
      "cell_type": "code",
      "source": [
        "# 2. Membuat class variable dan variable contoh\n",
        " # menggunakan class dan Variable contoh\n",
        "\n",
        "class student:\n",
        "  def __init__(self, nama, umur, kelas):\n",
        "      self.nama = nama\n",
        "      self.umur = umur\n",
        "      self.kelas = kelas\n",
        "\n",
        "  def tampilkan(self):\n",
        "    print(f'Nama saya {self.nama}, berumur {self.umur} dan saya kelas {self.kelas}')\n",
        "\n",
        "siswa1 = student('Bobby', 18, 'IX-B')\n",
        "siswa2 = student('Rodri', 19, 'IX-A')\n",
        "\n",
        "siswa1.tampilkan()\n",
        "siswa2.tampilkan()\n"
      ],
      "metadata": {
        "colab": {
          "base_uri": "https://localhost:8080/"
        },
        "id": "ErYo46vOyEss",
        "outputId": "088102b1-47fb-4613-c364-2dbe54f40a1d"
      },
      "execution_count": 5,
      "outputs": [
        {
          "output_type": "stream",
          "name": "stdout",
          "text": [
            "Nama saya Bobby, berumur 18 dan saya kelas IX-B\n",
            "Nama saya Rodri, berumur 19 dan saya kelas IX-A\n"
          ]
        }
      ]
    },
    {
      "cell_type": "code",
      "source": [
        "# 3. Inheritance\n",
        " # mengimplementasikan inheritance (Pewarisan/Turunan)\n",
        "\n",
        "class animal:\n",
        "  def sound(self):\n",
        "    print('some sound')\n",
        "\n",
        "\n",
        "class anjing(animal):\n",
        "  def sound(self):\n",
        "    print('woof')\n",
        "\n",
        "\n",
        "my_anjing = anjing()\n",
        "my_anjing.sound()"
      ],
      "metadata": {
        "colab": {
          "base_uri": "https://localhost:8080/"
        },
        "id": "zDtGeuRnzeUE",
        "outputId": "ca407b39-3f60-473a-f9cc-17ad9a4603a4"
      },
      "execution_count": 6,
      "outputs": [
        {
          "output_type": "stream",
          "name": "stdout",
          "text": [
            "woof\n"
          ]
        }
      ]
    },
    {
      "cell_type": "code",
      "source": [
        "# 4. method overriding (metode penyampingan)\n",
        " # metode penyampingan untuk child class\n",
        "\n",
        "class parent:\n",
        "  def show(self):\n",
        "    print('ini adalah parent class')\n",
        "\n",
        "class child(parent):\n",
        "  def show(self):\n",
        "    print('child method')\n",
        "\n",
        "obj = child()\n",
        "obj.show()"
      ],
      "metadata": {
        "colab": {
          "base_uri": "https://localhost:8080/"
        },
        "id": "FMiL_Cie0pku",
        "outputId": "f7be071d-1731-43ff-94b2-7502b38785ab"
      },
      "execution_count": 8,
      "outputs": [
        {
          "output_type": "stream",
          "name": "stdout",
          "text": [
            "child method\n"
          ]
        }
      ]
    },
    {
      "cell_type": "code",
      "source": [
        "# 5. enkapsulasi (encapsulation)\n",
        " # mengenkapsulasi data menggunakan privat variable\n",
        "\n",
        "class bank_account:\n",
        "  def __init__(self, balance):\n",
        "    self.__balance = balance\n",
        "\n",
        "  def get_balance(self):\n",
        "    return self.__balance\n",
        "\n",
        "  def deposit(self, amount):\n",
        "    self.__balance += amount\n",
        "\n",
        "  def withdraw(self, amount):\n",
        "    if amount <= self.__balance:\n",
        "      self.__balance -= amount\n",
        "    else:\n",
        "      print('Saldo tidak mencukupi')\n",
        "\n",
        "my_account = bank_account(1000)\n",
        "print(my_account.get_balance())\n",
        "\n",
        "my_account.deposit(500)\n",
        "print(my_account.get_balance())\n",
        "\n",
        "my_account.withdraw(2000)\n",
        "print(my_account.get_balance())"
      ],
      "metadata": {
        "colab": {
          "base_uri": "https://localhost:8080/"
        },
        "id": "j7BqHbAE1fDO",
        "outputId": "b75dceca-6dda-4e47-cb3a-4cdf8034c4a4"
      },
      "execution_count": 11,
      "outputs": [
        {
          "output_type": "stream",
          "name": "stdout",
          "text": [
            "1000\n",
            "1500\n",
            "Saldo tidak mencukupi\n",
            "1500\n"
          ]
        }
      ]
    },
    {
      "cell_type": "code",
      "source": [
        "# 6. Polymorphism\n",
        " # polymorphism menggunakan interface umum\n",
        "\n",
        "class cat:\n",
        "  def sound(self):\n",
        "    return 'Meow'\n",
        "\n",
        "class dog:\n",
        "  def sound(self):\n",
        "    return 'Woof'\n",
        "\n",
        "def animal_sound(animal):\n",
        "  print(animal.sound())\n",
        "\n",
        "\n",
        "cat = cat()\n",
        "dog = dog()\n",
        "\n",
        "animal_sound(cat)\n",
        "animal_sound(dog)"
      ],
      "metadata": {
        "colab": {
          "base_uri": "https://localhost:8080/"
        },
        "id": "2e1NNB292Jml",
        "outputId": "a5bedbf8-be16-4fd1-c738-d85f0e5a2ce7"
      },
      "execution_count": 20,
      "outputs": [
        {
          "output_type": "stream",
          "name": "stdout",
          "text": [
            "Meow\n",
            "Woof\n"
          ]
        }
      ]
    },
    {
      "cell_type": "code",
      "source": [
        "# 7. class method and static method\n",
        " # menggunakan class dan static method\n",
        "\n",
        "class math:\n",
        "  @classmethod\n",
        "  def add(cls, x, y):\n",
        "    return x + y\n",
        "\n",
        "  @staticmethod\n",
        "  def substract(x, y):\n",
        "    return x - y\n",
        "\n",
        "print(math.add(10,3))\n",
        "print(math.substract(10,3))"
      ],
      "metadata": {
        "colab": {
          "base_uri": "https://localhost:8080/"
        },
        "id": "P6kmpxoW4ADT",
        "outputId": "0d0c6f58-01b5-4f17-b377-5b803fafec0b"
      },
      "execution_count": 22,
      "outputs": [
        {
          "output_type": "stream",
          "name": "stdout",
          "text": [
            "13\n",
            "7\n"
          ]
        }
      ]
    },
    {
      "cell_type": "code",
      "source": [
        "# 8. Dunder (magic) method\n",
        " # menggunakan dunder methods untuk perilaku kustom\n",
        "\n",
        "class book:\n",
        "  def __init__(self, title, author, pages):\n",
        "    self.title = title\n",
        "    self.author = author\n",
        "    self.pages = pages\n",
        "\n",
        "  def __str__(self):\n",
        "    return f'{self.title} by {self.author}, count {self.pages} pages'\n",
        "\n",
        "book = book('pertarungan paddle pop', 'Rusdiana Dowi', 603)\n",
        "print(book)"
      ],
      "metadata": {
        "colab": {
          "base_uri": "https://localhost:8080/"
        },
        "id": "JnAjUfXa4sIw",
        "outputId": "96def8a2-5e1a-407f-94c2-73a9fe35e6ad"
      },
      "execution_count": 23,
      "outputs": [
        {
          "output_type": "stream",
          "name": "stdout",
          "text": [
            "pertarungan paddle pop by Rusdiana Dowi, count 603 pages\n"
          ]
        }
      ]
    },
    {
      "cell_type": "code",
      "source": [
        "# 9. Abstract class\n",
        " # membuat sebuah abstract class\n",
        "\n",
        "from abc import ABC, abstractmethod\n",
        "\n",
        "class shape(ABC):\n",
        "  @abstractmethod\n",
        "  def area(self):\n",
        "    pass\n",
        "\n",
        "class circle(shape):\n",
        "  def __init__(self, radius):\n",
        "    self.radius = radius\n",
        "\n",
        "  def area(self):\n",
        "    return 3.14 * (self.radius ** 2)\n",
        "\n",
        "\n",
        "circle = circle(8)\n",
        "print(circle.area())"
      ],
      "metadata": {
        "colab": {
          "base_uri": "https://localhost:8080/"
        },
        "id": "cwKc_11D5dXi",
        "outputId": "a5d5f5a6-b553-4a85-9f82-336cec0bfc00"
      },
      "execution_count": 26,
      "outputs": [
        {
          "output_type": "stream",
          "name": "stdout",
          "text": [
            "200.96\n"
          ]
        }
      ]
    },
    {
      "cell_type": "code",
      "source": [
        "# 10. Multiple Inheritance\n",
        " # mendemontrasikan multiple inheritance\n",
        "\n",
        "class A:\n",
        "  def feature1(self):\n",
        "    print('feature 1')\n",
        "\n",
        "class B:\n",
        "  def feature2(self):\n",
        "    print('feature 2')\n",
        "\n",
        "class C(A,B):\n",
        "  pass\n",
        "\n",
        "obj = C()\n",
        "obj.feature1()\n",
        "obj.feature2()\n",
        "\n"
      ],
      "metadata": {
        "colab": {
          "base_uri": "https://localhost:8080/"
        },
        "id": "jypLa0iy6sQr",
        "outputId": "b5a3f6b5-60d5-4f79-ee11-4afbb1245631"
      },
      "execution_count": 27,
      "outputs": [
        {
          "output_type": "stream",
          "name": "stdout",
          "text": [
            "feature 1\n",
            "feature 2\n"
          ]
        }
      ]
    },
    {
      "cell_type": "markdown",
      "source": [
        "##**Python Lambda**\n",
        "\n",
        "variable_name = lambda argument:Expression"
      ],
      "metadata": {
        "id": "Ldlgg9w_7wbm"
      }
    },
    {
      "cell_type": "code",
      "source": [
        "# contoh penerapan lambda\n",
        "\n",
        "square = lambda x:x**2\n",
        "result = square(5)\n",
        "print(result)"
      ],
      "metadata": {
        "colab": {
          "base_uri": "https://localhost:8080/"
        },
        "id": "6CaPA5K771of",
        "outputId": "641f10ee-594a-4909-9b4e-a87ec1912996"
      },
      "execution_count": 30,
      "outputs": [
        {
          "output_type": "stream",
          "name": "stdout",
          "text": [
            "25\n"
          ]
        }
      ]
    },
    {
      "cell_type": "code",
      "source": [
        "add = lambda x,y: x+y\n",
        "result = add(5,3)\n",
        "print(result)"
      ],
      "metadata": {
        "colab": {
          "base_uri": "https://localhost:8080/"
        },
        "id": "V7D5I7b58Ygr",
        "outputId": "1c2ef154-e435-4138-f896-dd3b42935548"
      },
      "execution_count": 31,
      "outputs": [
        {
          "output_type": "stream",
          "name": "stdout",
          "text": [
            "8\n"
          ]
        }
      ]
    },
    {
      "cell_type": "code",
      "source": [
        "# atau juga bisa menggunakan fungsi map()\n",
        "\n",
        "my_list = (1,2,3,4,5)\n",
        "result = list(map(lambda x:x**2, my_list))\n",
        "print(result)"
      ],
      "metadata": {
        "colab": {
          "base_uri": "https://localhost:8080/"
        },
        "id": "xTgpk7pL8khi",
        "outputId": "b868c6c4-643e-4a7e-e2a4-2a5b14e5f397"
      },
      "execution_count": 32,
      "outputs": [
        {
          "output_type": "stream",
          "name": "stdout",
          "text": [
            "[1, 4, 9, 16, 25]\n"
          ]
        }
      ]
    },
    {
      "cell_type": "code",
      "source": [
        "# atau juga bisa menggunakan fungsi filter()\n",
        "\n",
        "my_list = (1,2,3,4,5,6,7,8,9,10)\n",
        "result = list(filter(lambda x: x % 2 == 0, my_list))\n",
        "print(result)"
      ],
      "metadata": {
        "colab": {
          "base_uri": "https://localhost:8080/"
        },
        "id": "KOuqqLtN83LS",
        "outputId": "7c13ec75-734c-4840-a343-18cb8b4f678b"
      },
      "execution_count": 33,
      "outputs": [
        {
          "output_type": "stream",
          "name": "stdout",
          "text": [
            "[2, 4, 6, 8, 10]\n"
          ]
        }
      ]
    },
    {
      "cell_type": "code",
      "source": [
        "# atau juga bisa menggunakan fungsi reduce()\n",
        "\n",
        "from functools import reduce\n",
        "\n",
        "my_list = (1,2,3,4,5)\n",
        "result =reduce(lambda x,y: x*y, my_list)\n",
        "print(result)"
      ],
      "metadata": {
        "colab": {
          "base_uri": "https://localhost:8080/"
        },
        "id": "cRfLkqMW9XbR",
        "outputId": "be0ba085-be6e-461a-ce43-bc041d8ef3da"
      },
      "execution_count": 40,
      "outputs": [
        {
          "output_type": "stream",
          "name": "stdout",
          "text": [
            "120\n"
          ]
        }
      ]
    }
  ]
}