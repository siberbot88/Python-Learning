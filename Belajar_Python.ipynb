{
  "nbformat": 4,
  "nbformat_minor": 0,
  "metadata": {
    "colab": {
      "provenance": [],
      "authorship_tag": "ABX9TyOyHFlc2f6HYuyAFH0hKGWV",
      "include_colab_link": true
    },
    "kernelspec": {
      "name": "python3",
      "display_name": "Python 3"
    },
    "language_info": {
      "name": "python"
    }
  },
  "cells": [
    {
      "cell_type": "markdown",
      "metadata": {
        "id": "view-in-github",
        "colab_type": "text"
      },
      "source": [
        "<a href=\"https://colab.research.google.com/github/siberbot88/Python-Learning/blob/main/Belajar_Python.ipynb\" target=\"_parent\"><img src=\"https://colab.research.google.com/assets/colab-badge.svg\" alt=\"Open In Colab\"/></a>"
      ]
    },
    {
      "cell_type": "markdown",
      "source": [
        "#**Belajar Python Pemula**\n",
        "\n",
        "Bersama *siberbot88* mengenali berbagai program python untuk pemula.\n",
        "Python adalah bahasa pemrograman multifungsi yang dirilis pada tahun 1991 oleh Guido van Rossum (GvR). Beliau membuat Python sebagai bahasa pemrograman yang mudah dibaca dan dimengerti (readable) serta memiliki kemampuan penanganan kesalahan (exception handling). Berdasarkan tujuan tersebut, Guido van Rossum berhasil  menjadikan Python sebagai bahasa pemrograman yang dapat diimplementasikan ke dalam berbagai sektor. Python dapat digunakan untuk membangun website (server-side), analisis data, hingga pembelajaran mesin (machine learning).\n"
      ],
      "metadata": {
        "id": "66mQPQ4tQ3px"
      }
    },
    {
      "cell_type": "markdown",
      "source": [
        "**Membuat Print pada python**"
      ],
      "metadata": {
        "id": "IY5yqGS1Ri_5"
      }
    },
    {
      "cell_type": "code",
      "source": [
        "print('Hello world')"
      ],
      "metadata": {
        "colab": {
          "base_uri": "https://localhost:8080/"
        },
        "id": "GyctEtRRRJx2",
        "outputId": "dd18a66a-e5e1-4f13-a332-9895ec434997"
      },
      "execution_count": 2,
      "outputs": [
        {
          "output_type": "stream",
          "name": "stdout",
          "text": [
            "Hello world\n"
          ]
        }
      ]
    },
    {
      "cell_type": "code",
      "source": [],
      "metadata": {
        "id": "sqUSmO-ARn2A"
      },
      "execution_count": null,
      "outputs": []
    },
    {
      "cell_type": "markdown",
      "source": [
        "**Mengenal Type data pada Python**\n",
        "\n",
        "\n",
        "1.   Tipe data primitif\n",
        "2.   Tipe data Collection\n",
        "\n"
      ],
      "metadata": {
        "id": "pbXo4Vh7Roqv"
      }
    },
    {
      "cell_type": "markdown",
      "source": [
        "**1. Tipe data Primitif**\n",
        "\n",
        "\n",
        "*   Integer\n",
        "*   Float\n",
        "*   Complex\n",
        "*   String\n",
        "\n"
      ],
      "metadata": {
        "id": "xKCwhA0nSbiq"
      }
    },
    {
      "cell_type": "code",
      "source": [
        "# Ini contoh Integer\n",
        "a = 5\n",
        "print(a)\n",
        "\n",
        "# ini contoh Float\n",
        "a = 5.5\n",
        "print(a)\n",
        "\n",
        "# Ini contoh Complex\n",
        "a = 5+5j\n",
        "print(a)\n",
        "\n",
        "# Ini contoh String\n",
        "a = 'Hello World'\n",
        "print(a)\n",
        "\n",
        "# ini contoh formatted string\n",
        "name = 'siberbot88'\n",
        "print(f'Hello {name}')\n",
        "\n",
        "# ini contoh % formatting\n",
        "name = 'siberbot88'\n",
        "print('Hello %s' %name)\n",
        "\n",
        "# ini contoh str.format()\n",
        "name = 'siberbot88'\n",
        "print('Hello {}'.format(name))"
      ],
      "metadata": {
        "colab": {
          "base_uri": "https://localhost:8080/"
        },
        "id": "qtDCsQ9MSoJg",
        "outputId": "caf9c239-6d16-425c-fb70-d2166cd46f6f"
      },
      "execution_count": 5,
      "outputs": [
        {
          "output_type": "stream",
          "name": "stdout",
          "text": [
            "5\n",
            "5.5\n",
            "(5+5j)\n",
            "Hello World\n",
            "Hello siberbot88\n",
            "Hello siberbot88\n",
            "Hello siberbot88\n"
          ]
        }
      ]
    },
    {
      "cell_type": "markdown",
      "source": [
        "**Tipe data collections**\n",
        "\n",
        "\n",
        "*   List\n",
        "*   Tuple\n",
        "*   Set\n",
        "*   Dictionary\n",
        "\n"
      ],
      "metadata": {
        "id": "2z-esKuGS568"
      }
    },
    {
      "cell_type": "code",
      "source": [
        "# ini adalah contoh List\n",
        "a = [1,2,3,4,5]\n",
        "print(a)\n",
        "\n",
        "# ini adalah contoh Tuple\n",
        "a = (1,2,3,4,5)\n",
        "print(a)\n",
        "\n",
        "# ini adalah contoh Set\n",
        "a = {1,2,3,4,5}\n",
        "print(a)\n",
        "\n",
        "# indeks pada List\n",
        "a = [1,2,3,4,5]\n",
        "print(a[0])\n",
        "\n",
        "# indeks pada Tuple\n",
        "a = (1,2,3,4,5)\n",
        "print(a[3])\n",
        "\n",
        "# ini adalah contoh slicing\n",
        "a = ['Laptop', 'Smartphone', 'Buku', 'Mouse', 'Keyboard', 'Monitor']\n",
        "print(a[0:3])\n",
        "print(a[3:])\n",
        "print(a[:3])\n",
        "print(a[0:3:2])"
      ],
      "metadata": {
        "colab": {
          "base_uri": "https://localhost:8080/"
        },
        "id": "reJkTivlT_rJ",
        "outputId": "0d282128-cc2f-4204-caf4-c24a03e0bb36"
      },
      "execution_count": 11,
      "outputs": [
        {
          "output_type": "stream",
          "name": "stdout",
          "text": [
            "[1, 2, 3, 4, 5]\n",
            "(1, 2, 3, 4, 5)\n",
            "{1, 2, 3, 4, 5}\n",
            "1\n",
            "4\n",
            "['Laptop', 'Smartphone', 'Buku']\n",
            "['Mouse', 'Keyboard', 'Monitor']\n",
            "['Laptop', 'Smartphone', 'Buku']\n",
            "['Laptop', 'Buku']\n"
          ]
        }
      ]
    },
    {
      "cell_type": "markdown",
      "source": [
        "**Union dan Intersection pada set**"
      ],
      "metadata": {
        "id": "ATWMmlHAVgh1"
      }
    },
    {
      "cell_type": "code",
      "source": [
        "# contoh melakukan union\n",
        "set1 = {1,2,3,4,5}\n",
        "set2 = {3,4,5,6,7}\n",
        "print(set1.union(set2))\n",
        "\n",
        "\n",
        "# contoh melakukan Intersection\n",
        "print(set1.intersection(set2))"
      ],
      "metadata": {
        "colab": {
          "base_uri": "https://localhost:8080/"
        },
        "id": "4abPbvA8VkgK",
        "outputId": "44e0c0b9-7380-491a-a8c4-497afb303118"
      },
      "execution_count": 12,
      "outputs": [
        {
          "output_type": "stream",
          "name": "stdout",
          "text": [
            "{1, 2, 3, 4, 5, 6, 7}\n",
            "{3, 4, 5}\n"
          ]
        }
      ]
    },
    {
      "cell_type": "markdown",
      "source": [
        "**Dictionary pada python**"
      ],
      "metadata": {
        "id": "PwMFzsRwV1WG"
      }
    },
    {
      "cell_type": "code",
      "source": [
        "# Contoh Dictionary pada python\n",
        "\n",
        "x = {'Name':'siberbot88', 'Age':20}\n",
        "print(x)\n",
        "print(x['Name'])\n",
        "print(x['Age'])"
      ],
      "metadata": {
        "colab": {
          "base_uri": "https://localhost:8080/"
        },
        "id": "6YX3RRutV_gF",
        "outputId": "1f9a7cbf-1f22-4f79-e150-bbd8a283706a"
      },
      "execution_count": 13,
      "outputs": [
        {
          "output_type": "stream",
          "name": "stdout",
          "text": [
            "{'Name': 'siberbot88', 'Age': 20}\n",
            "siberbot88\n",
            "20\n"
          ]
        }
      ]
    },
    {
      "cell_type": "markdown",
      "source": [
        "**Konversi tipe data**"
      ],
      "metadata": {
        "id": "hj5npeZIWR3B"
      }
    },
    {
      "cell_type": "code",
      "source": [
        "# contoh konversi String\n",
        "print(str(25))\n",
        "\n",
        "# cintih konversi integer\n",
        "print(int('25'))\n",
        "\n",
        "# contoh konversi float\n",
        "print(float(25))\n",
        "\n"
      ],
      "metadata": {
        "colab": {
          "base_uri": "https://localhost:8080/"
        },
        "id": "VieW1HhaWeb1",
        "outputId": "13584248-1f81-4760-9a46-2cd44851f614"
      },
      "execution_count": 14,
      "outputs": [
        {
          "output_type": "stream",
          "name": "stdout",
          "text": [
            "25\n",
            "25\n",
            "25.0\n"
          ]
        }
      ]
    },
    {
      "cell_type": "markdown",
      "source": [
        "**Konversi ke Dictionary**"
      ],
      "metadata": {
        "id": "PmuFwXpFW58U"
      }
    },
    {
      "cell_type": "code",
      "source": [
        "# contoh konversi ke dictionary\n",
        "print(dict([(1,2),(3,4)]))"
      ],
      "metadata": {
        "colab": {
          "base_uri": "https://localhost:8080/"
        },
        "id": "-9pl6PaFW9ID",
        "outputId": "3b338ab9-7ceb-464a-c91b-32f6dbadd7e7"
      },
      "execution_count": 15,
      "outputs": [
        {
          "output_type": "stream",
          "name": "stdout",
          "text": [
            "{1: 2, 3: 4}\n"
          ]
        }
      ]
    },
    {
      "cell_type": "markdown",
      "source": [
        "##**Tranformasi Angka, Karakter, dan string**"
      ],
      "metadata": {
        "id": "viKpNFgPXlUx"
      }
    },
    {
      "cell_type": "markdown",
      "source": [
        "**Mengubah huruf besar ke kecil dan sebaliknya**"
      ],
      "metadata": {
        "id": "waEx0qatXwx_"
      }
    },
    {
      "cell_type": "code",
      "source": [
        "# contoh mengubah String kecil ke besar\n",
        "kata = 'siberbot'\n",
        "kata = kata.upper()\n",
        "print(kata)\n",
        "\n",
        "# contoh mengubah String besar ke kecil\n",
        "kata = 'SIBERBOT'\n",
        "kata = kata.lower()\n",
        "print(kata)\n",
        "\n"
      ],
      "metadata": {
        "colab": {
          "base_uri": "https://localhost:8080/"
        },
        "id": "MZ9uq0H_X1XF",
        "outputId": "4f5d72a9-d22a-4b9f-c58b-336f8f1cd985"
      },
      "execution_count": 17,
      "outputs": [
        {
          "output_type": "stream",
          "name": "stdout",
          "text": [
            "SIBERBOT\n",
            "siberbot\n"
          ]
        }
      ]
    },
    {
      "cell_type": "markdown",
      "source": [
        "**Awalan dan akhiran untuk menghapus whitespace**"
      ],
      "metadata": {
        "id": "q31jdpCUYaTf"
      }
    },
    {
      "cell_type": "code",
      "source": [
        "# contoh fungsi .rstrip() untuk menghapus kanan/akhir string\n",
        "print('siberbot     '.rstrip())\n",
        "\n",
        "# contoh fungsi .lstrip() untuk menghapus kiri/awal string\n",
        "print('       siberbot'.lstrip())\n",
        "\n",
        "# contoh fungsi .strip() untuk menghapus whitespace pada bagian awal dan akhir string\n",
        "print('       siberbot       '.strip())\n",
        "\n",
        "# contoh fungsi .startswith() untuk menemukan suatu kata pada awal string\n",
        "print('siberbot88 belajar python'.startswith('siberbot88'))\n",
        "print('siberbot88 belajar python'.startswith('python'))\n",
        "\n",
        "# contoh fungsi .endswith() untuk menemukan suatu kata pada akhir string\n",
        "print('siberbot88 belajar python'.endswith('python'))\n",
        "print('siberbot88 belajar python'.endswith('siberbot88'))\n",
        "#"
      ],
      "metadata": {
        "colab": {
          "base_uri": "https://localhost:8080/"
        },
        "id": "EwzkHAzLYhWP",
        "outputId": "bc31d0ba-2d90-4c31-a27a-908936e3663e"
      },
      "execution_count": 22,
      "outputs": [
        {
          "output_type": "stream",
          "name": "stdout",
          "text": [
            "siberbot\n",
            "siberbot\n",
            "siberbot\n",
            "True\n",
            "False\n",
            "True\n",
            "False\n"
          ]
        }
      ]
    },
    {
      "cell_type": "markdown",
      "source": [
        "**Memisah dan menggabung string**"
      ],
      "metadata": {
        "id": "xCNCiXlhZ0cA"
      }
    },
    {
      "cell_type": "code",
      "source": [
        "# contoh .join() untuk menggabungkan string\n",
        "print(''.join(['siber', 'bot', '88']))\n",
        "\n",
        "# contoh .split() untuk memisahkan string\n",
        "print('siberbot88 belajar python'.split())"
      ],
      "metadata": {
        "colab": {
          "base_uri": "https://localhost:8080/"
        },
        "id": "njrfk6UOZ38J",
        "outputId": "d52b20fb-e5de-4246-e6dd-4a8c3d17d66e"
      },
      "execution_count": 23,
      "outputs": [
        {
          "output_type": "stream",
          "name": "stdout",
          "text": [
            "siberbot88\n",
            "['siberbot88', 'belajar', 'python']\n"
          ]
        }
      ]
    },
    {
      "cell_type": "markdown",
      "source": [
        "**Mengganti Elemen String**"
      ],
      "metadata": {
        "id": "A9o6qfSsaNlP"
      }
    },
    {
      "cell_type": "code",
      "source": [
        "# contoh fungsi .replace() untuk mengganti elemen string\n",
        "string = 'ayo belajar bersama siberbot88'\n",
        "print(string.replace('siberbot88', 'siberbot'))"
      ],
      "metadata": {
        "colab": {
          "base_uri": "https://localhost:8080/"
        },
        "id": "iNampJ2AaR01",
        "outputId": "5633f6ca-46c2-4a5e-a9ae-cca6b05f419a"
      },
      "execution_count": 24,
      "outputs": [
        {
          "output_type": "stream",
          "name": "stdout",
          "text": [
            "ayo belajar bersama siberbot\n"
          ]
        }
      ]
    },
    {
      "cell_type": "markdown",
      "source": [
        "**Pengecekan String Pada Python**"
      ],
      "metadata": {
        "id": "0LyJAHw2amEs"
      }
    },
    {
      "cell_type": "code",
      "source": [
        "# contoh fungsi .isupper untuk mengecek huruf kapital\n",
        "kata = 'siberbot'\n",
        "print(kata.isupper())\n",
        "\n",
        "# contoh fungsi .islower untuk mengecek huruf kecil\n",
        "kata = 'siberbot'\n",
        "print(kata.islower())\n",
        "\n",
        "# contoh fungsi .isalpha untuk mengecek huruf alphabet\n",
        "kata = 'siberbot'\n",
        "print(kata.isalpha())\n",
        "\n",
        "# contoh fungsi .isalnum untuk mengecek huruf dan angka\n",
        "kata = 'siberbot88'\n",
        "print(kata.isalnum())\n",
        "\n",
        "# contoh fungsi .isdecimal untuk mengecek karakter string berisi decimal\n",
        "kata = '12345'\n",
        "print(kata.isdecimal())\n",
        "\n",
        "# contoh fungsi .isspace untuk mengecek karakter string berisi spasi\n",
        "kata = ' '\n",
        "print(kata.isspace())\n",
        "\n",
        "# contoh fungsi .istitle untuk mengecek huruf kapital di setiap katanya\n",
        "kata = 'Siberbot 88'\n",
        "print(kata.istitle())\n"
      ],
      "metadata": {
        "colab": {
          "base_uri": "https://localhost:8080/"
        },
        "id": "p5vCJeI6arld",
        "outputId": "e6c6a0a9-4f43-463a-c84a-6663ef645db6"
      },
      "execution_count": 26,
      "outputs": [
        {
          "output_type": "stream",
          "name": "stdout",
          "text": [
            "False\n",
            "True\n",
            "True\n",
            "True\n",
            "True\n",
            "True\n",
            "True\n"
          ]
        }
      ]
    },
    {
      "cell_type": "markdown",
      "source": [
        "**Formatting Pada String**"
      ],
      "metadata": {
        "id": "6IgsbDS0bqpk"
      }
    },
    {
      "cell_type": "code",
      "source": [
        "# contoh fungsi .zfill() untuk menambah nilai 0 didepan sebuah string\n",
        "text = 'siberbot'\n",
        "tambah_number = text.zfill(10)\n",
        "print(tambah_number)\n",
        "\n",
        "# contoh fungsi .rjust() untuk merapikan pencetakan teks.\n",
        "print('siberbot'.rjust(10))\n",
        "\n",
        "# contoh fungsi .ljust() untuk merapikan pencetakan teks.\n",
        "print('siberbot'.ljust(10))\n",
        "\n",
        "# contoh fungsi .center() untuk merapikan pencetakan teks.\n",
        "print('siberbot'.center(10, '-'))\n",
        "\n",
        "# contoh fungsi String literals\n",
        "print('halo! kita bertemu lagi hari jum\\'at yaa')\n",
        "\n",
        "# contoh fungsi raw String\n",
        "print(r'halo! kita bertemu lagi hari jum\\'at yaa')"
      ],
      "metadata": {
        "colab": {
          "base_uri": "https://localhost:8080/"
        },
        "id": "JgrkYrJ6bzIh",
        "outputId": "fbefa5d6-0196-402b-e195-a831f932dc5b"
      },
      "execution_count": 35,
      "outputs": [
        {
          "output_type": "stream",
          "name": "stdout",
          "text": [
            "00siberbot\n",
            "  siberbot\n",
            "siberbot  \n",
            "-siberbot-\n",
            "halo! kita bertemu lagi hari jum'at yaa\n",
            "halo! kita bertemu lagi hari jum\\'at yaa\n"
          ]
        }
      ]
    }
  ]
}