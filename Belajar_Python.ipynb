{
  "nbformat": 4,
  "nbformat_minor": 0,
  "metadata": {
    "colab": {
      "provenance": [],
      "authorship_tag": "ABX9TyOiDYWvKWEEHI7yX2a08JzQ",
      "include_colab_link": true
    },
    "kernelspec": {
      "name": "python3",
      "display_name": "Python 3"
    },
    "language_info": {
      "name": "python"
    }
  },
  "cells": [
    {
      "cell_type": "markdown",
      "metadata": {
        "id": "view-in-github",
        "colab_type": "text"
      },
      "source": [
        "<a href=\"https://colab.research.google.com/github/siberbot88/Python-Learning/blob/main/Belajar_Python.ipynb\" target=\"_parent\"><img src=\"https://colab.research.google.com/assets/colab-badge.svg\" alt=\"Open In Colab\"/></a>"
      ]
    },
    {
      "cell_type": "markdown",
      "source": [
        "#**Belajar Python Pemula**\n",
        "\n",
        "Bersama *siberbot88* mengenali berbagai program python untuk pemula.\n",
        "Python adalah bahasa pemrograman multifungsi yang dirilis pada tahun 1991 oleh Guido van Rossum (GvR). Beliau membuat Python sebagai bahasa pemrograman yang mudah dibaca dan dimengerti (readable) serta memiliki kemampuan penanganan kesalahan (exception handling). Berdasarkan tujuan tersebut, Guido van Rossum berhasil  menjadikan Python sebagai bahasa pemrograman yang dapat diimplementasikan ke dalam berbagai sektor. Python dapat digunakan untuk membangun website (server-side), analisis data, hingga pembelajaran mesin (machine learning).\n"
      ],
      "metadata": {
        "id": "66mQPQ4tQ3px"
      }
    },
    {
      "cell_type": "markdown",
      "source": [
        "**Membuat Print pada python**"
      ],
      "metadata": {
        "id": "IY5yqGS1Ri_5"
      }
    },
    {
      "cell_type": "code",
      "source": [
        "print('Hello world')"
      ],
      "metadata": {
        "colab": {
          "base_uri": "https://localhost:8080/"
        },
        "id": "GyctEtRRRJx2",
        "outputId": "dd18a66a-e5e1-4f13-a332-9895ec434997"
      },
      "execution_count": 2,
      "outputs": [
        {
          "output_type": "stream",
          "name": "stdout",
          "text": [
            "Hello world\n"
          ]
        }
      ]
    },
    {
      "cell_type": "code",
      "source": [],
      "metadata": {
        "id": "sqUSmO-ARn2A"
      },
      "execution_count": null,
      "outputs": []
    },
    {
      "cell_type": "markdown",
      "source": [
        "**Mengenal Type data pada Python**\n",
        "\n",
        "\n",
        "1.   Tipe data primitif\n",
        "2.   Tipe data Collection\n",
        "\n"
      ],
      "metadata": {
        "id": "pbXo4Vh7Roqv"
      }
    },
    {
      "cell_type": "markdown",
      "source": [
        "**1. Tipe data Primitif**\n",
        "\n",
        "\n",
        "*   Integer\n",
        "*   Float\n",
        "*   Complex\n",
        "*   String\n",
        "\n"
      ],
      "metadata": {
        "id": "xKCwhA0nSbiq"
      }
    },
    {
      "cell_type": "code",
      "source": [
        "# Ini contoh Integer\n",
        "a = 5\n",
        "print(a)\n",
        "\n",
        "# ini contoh Float\n",
        "a = 5.5\n",
        "print(a)\n",
        "\n",
        "# Ini contoh Complex\n",
        "a = 5+5j\n",
        "print(a)\n",
        "\n",
        "# Ini contoh String\n",
        "a = 'Hello World'\n",
        "print(a)\n",
        "\n",
        "# ini contoh formatted string\n",
        "name = 'siberbot88'\n",
        "print(f'Hello {name}')\n",
        "\n",
        "# ini contoh % formatting\n",
        "name = 'siberbot88'\n",
        "print('Hello %s' %name)\n",
        "\n",
        "# ini contoh str.format()\n",
        "name = 'siberbot88'\n",
        "print('Hello {}'.format(name))"
      ],
      "metadata": {
        "colab": {
          "base_uri": "https://localhost:8080/"
        },
        "id": "qtDCsQ9MSoJg",
        "outputId": "caf9c239-6d16-425c-fb70-d2166cd46f6f"
      },
      "execution_count": 5,
      "outputs": [
        {
          "output_type": "stream",
          "name": "stdout",
          "text": [
            "5\n",
            "5.5\n",
            "(5+5j)\n",
            "Hello World\n",
            "Hello siberbot88\n",
            "Hello siberbot88\n",
            "Hello siberbot88\n"
          ]
        }
      ]
    },
    {
      "cell_type": "markdown",
      "source": [
        "**Tipe data collections**\n",
        "\n",
        "\n",
        "*   List\n",
        "*   Tuple\n",
        "*   Set\n",
        "*   Dictionary\n",
        "\n"
      ],
      "metadata": {
        "id": "2z-esKuGS568"
      }
    },
    {
      "cell_type": "code",
      "source": [
        "# ini adalah contoh List\n",
        "a = [1,2,3,4,5]\n",
        "print(a)\n",
        "\n",
        "# ini adalah contoh Tuple\n",
        "a = (1,2,3,4,5)\n",
        "print(a)\n",
        "\n",
        "# ini adalah contoh Set\n",
        "a = {1,2,3,4,5}\n",
        "print(a)\n",
        "\n",
        "# indeks pada List\n",
        "a = [1,2,3,4,5]\n",
        "print(a[0])\n",
        "\n",
        "# indeks pada Tuple\n",
        "a = (1,2,3,4,5)\n",
        "print(a[3])\n",
        "\n",
        "# ini adalah contoh slicing\n",
        "a = ['Laptop', 'Smartphone', 'Buku', 'Mouse', 'Keyboard', 'Monitor']\n",
        "print(a[0:3])\n",
        "print(a[3:])\n",
        "print(a[:3])\n",
        "print(a[0:3:2])"
      ],
      "metadata": {
        "colab": {
          "base_uri": "https://localhost:8080/"
        },
        "id": "reJkTivlT_rJ",
        "outputId": "0d282128-cc2f-4204-caf4-c24a03e0bb36"
      },
      "execution_count": 11,
      "outputs": [
        {
          "output_type": "stream",
          "name": "stdout",
          "text": [
            "[1, 2, 3, 4, 5]\n",
            "(1, 2, 3, 4, 5)\n",
            "{1, 2, 3, 4, 5}\n",
            "1\n",
            "4\n",
            "['Laptop', 'Smartphone', 'Buku']\n",
            "['Mouse', 'Keyboard', 'Monitor']\n",
            "['Laptop', 'Smartphone', 'Buku']\n",
            "['Laptop', 'Buku']\n"
          ]
        }
      ]
    },
    {
      "cell_type": "markdown",
      "source": [
        "**Union dan Intersection pada set**"
      ],
      "metadata": {
        "id": "ATWMmlHAVgh1"
      }
    },
    {
      "cell_type": "code",
      "source": [
        "# contoh melakukan union\n",
        "set1 = {1,2,3,4,5}\n",
        "set2 = {3,4,5,6,7}\n",
        "print(set1.union(set2))\n",
        "\n",
        "\n",
        "# contoh melakukan Intersection\n",
        "print(set1.intersection(set2))"
      ],
      "metadata": {
        "colab": {
          "base_uri": "https://localhost:8080/"
        },
        "id": "4abPbvA8VkgK",
        "outputId": "44e0c0b9-7380-491a-a8c4-497afb303118"
      },
      "execution_count": 12,
      "outputs": [
        {
          "output_type": "stream",
          "name": "stdout",
          "text": [
            "{1, 2, 3, 4, 5, 6, 7}\n",
            "{3, 4, 5}\n"
          ]
        }
      ]
    },
    {
      "cell_type": "markdown",
      "source": [
        "**Dictionary pada python**"
      ],
      "metadata": {
        "id": "PwMFzsRwV1WG"
      }
    },
    {
      "cell_type": "code",
      "source": [
        "# Contoh Dictionary pada python\n",
        "\n",
        "x = {'Name':'siberbot88', 'Age':20}\n",
        "print(x)\n",
        "print(x['Name'])\n",
        "print(x['Age'])"
      ],
      "metadata": {
        "colab": {
          "base_uri": "https://localhost:8080/"
        },
        "id": "6YX3RRutV_gF",
        "outputId": "1f9a7cbf-1f22-4f79-e150-bbd8a283706a"
      },
      "execution_count": 13,
      "outputs": [
        {
          "output_type": "stream",
          "name": "stdout",
          "text": [
            "{'Name': 'siberbot88', 'Age': 20}\n",
            "siberbot88\n",
            "20\n"
          ]
        }
      ]
    },
    {
      "cell_type": "markdown",
      "source": [
        "**Konversi tipe data**"
      ],
      "metadata": {
        "id": "hj5npeZIWR3B"
      }
    },
    {
      "cell_type": "code",
      "source": [
        "# contoh konversi String\n",
        "print(str(25))\n",
        "\n",
        "# cintih konversi integer\n",
        "print(int('25'))\n",
        "\n",
        "# contoh konversi float\n",
        "print(float(25))\n",
        "\n"
      ],
      "metadata": {
        "colab": {
          "base_uri": "https://localhost:8080/"
        },
        "id": "VieW1HhaWeb1",
        "outputId": "13584248-1f81-4760-9a46-2cd44851f614"
      },
      "execution_count": 14,
      "outputs": [
        {
          "output_type": "stream",
          "name": "stdout",
          "text": [
            "25\n",
            "25\n",
            "25.0\n"
          ]
        }
      ]
    },
    {
      "cell_type": "markdown",
      "source": [
        "**Konversi ke Dictionary**"
      ],
      "metadata": {
        "id": "PmuFwXpFW58U"
      }
    },
    {
      "cell_type": "code",
      "source": [
        "# contoh konversi ke dictionary\n",
        "print(dict([(1,2),(3,4)]))"
      ],
      "metadata": {
        "colab": {
          "base_uri": "https://localhost:8080/"
        },
        "id": "-9pl6PaFW9ID",
        "outputId": "3b338ab9-7ceb-464a-c91b-32f6dbadd7e7"
      },
      "execution_count": 15,
      "outputs": [
        {
          "output_type": "stream",
          "name": "stdout",
          "text": [
            "{1: 2, 3: 4}\n"
          ]
        }
      ]
    }
  ]
}